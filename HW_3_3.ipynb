{
  "nbformat": 4,
  "nbformat_minor": 0,
  "metadata": {
    "colab": {
      "name": "HW 3.3",
      "provenance": [],
      "authorship_tag": "ABX9TyPiuhxO44mL4tahhRg11Gst",
      "include_colab_link": true
    },
    "kernelspec": {
      "name": "python3",
      "display_name": "Python 3"
    },
    "language_info": {
      "name": "python"
    }
  },
  "cells": [
    {
      "cell_type": "markdown",
      "metadata": {
        "id": "view-in-github",
        "colab_type": "text"
      },
      "source": [
        "<a href=\"https://colab.research.google.com/github/dbetanc1/MAT494/blob/main/HW_3_3.ipynb\" target=\"_parent\"><img src=\"https://colab.research.google.com/assets/colab-badge.svg\" alt=\"Open In Colab\"/></a>"
      ]
    },
    {
      "cell_type": "markdown",
      "source": [
        "# Chapter 3\n",
        "Calculus and Optimization"
      ],
      "metadata": {
        "id": "sDzWpLbuFYRv"
      }
    },
    {
      "cell_type": "markdown",
      "source": [
        "# 3.3 Unconstrained Optimization\n",
        "Derive optimality conditions for unconstrained continuous\n",
        "optimization problems and start with local minimizers."
      ],
      "metadata": {
        "id": "TNOlsY__F_px"
      }
    },
    {
      "cell_type": "markdown",
      "source": [
        "# 3.3.2 Convexity and Global Minimizers\n",
        "\n",
        "A real-valued function is called convex if the line segment between any two\n",
        "points on the graph of the function lies above the graph between the two\n",
        "points. Our optimality conditions have only concerned local minimizers. In-\n",
        "deed, in the absence of global structure, local information such as gradients\n",
        "and Hessians can only inform about the immediate neighborhood of points.\n",
        "Here we consider convexity, under which local minimizers are also global\n",
        "minimizers."
      ],
      "metadata": {
        "id": "tHDLnmtWGU6N"
      }
    }
  ]
}