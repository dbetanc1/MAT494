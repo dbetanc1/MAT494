{
  "nbformat": 4,
  "nbformat_minor": 0,
  "metadata": {
    "colab": {
      "name": "HW 1.3",
      "provenance": [],
      "authorship_tag": "ABX9TyMnQOzF42MqPO6QxmvnWzZW",
      "include_colab_link": true
    },
    "kernelspec": {
      "name": "python3",
      "display_name": "Python 3"
    },
    "language_info": {
      "name": "python"
    }
  },
  "cells": [
    {
      "cell_type": "markdown",
      "metadata": {
        "id": "view-in-github",
        "colab_type": "text"
      },
      "source": [
        "<a href=\"https://colab.research.google.com/github/dbetanc1/MAT494/blob/main/HW_1_3.ipynb\" target=\"_parent\"><img src=\"https://colab.research.google.com/assets/colab-badge.svg\" alt=\"Open In Colab\"/></a>"
      ]
    },
    {
      "cell_type": "markdown",
      "source": [
        "**Linear Algebra**"
      ],
      "metadata": {
        "id": "Bkd_NyJtRlBx"
      }
    },
    {
      "cell_type": "markdown",
      "source": [
        "# **1.3 Linear Regression**\n",
        "\n",
        "Linear regression is used frequently in practical applications because of its\n",
        "simplicity. The models depend linearly on their unknown parameters and\n",
        "therefore are easier to fit than models which are non-linearly related to their\n",
        "parameters. As a result, the statistical properties of the resulting estimators\n",
        "are easier to determine. In this section, we first discuss QR decomposition,\n",
        "least-squares problem and return to linear regression."
      ],
      "metadata": {
        "id": "3CBXVnDhSJKa"
      }
    },
    {
      "cell_type": "markdown",
      "source": [
        "How to Use the Sklearn Linear Regression Function May 30, 2022 by Joshua Ebner"
      ],
      "metadata": {
        "id": "obAQxzBOw534"
      }
    },
    {
      "cell_type": "code",
      "source": [
        "import numpy as np\n",
        "import seaborn as sns\n",
        "\n",
        "from sklearn.linear_model import LinearRegression\n",
        "from sklearn.model_selection import train_test_split\n",
        "\n",
        "observation_count = 51\n",
        "x_var = np.linspace(start = 0, stop = 10, num = observation_count)\n",
        "\n",
        "np.random.seed(22)\n",
        "y_var = x_var + np.random.normal(size = observation_count, loc = 1, scale = 2)\n",
        "\n",
        "sns.scatterplot(x = x_var, y = y_var)\n"
      ],
      "metadata": {
        "id": "RwQWjUxBt-1d",
        "outputId": "51a4925d-c2dc-40db-d07c-c015cb75795c",
        "colab": {
          "base_uri": "https://localhost:8080/",
          "height": 282
        }
      },
      "execution_count": 11,
      "outputs": [
        {
          "output_type": "execute_result",
          "data": {
            "text/plain": [
              "<matplotlib.axes._subplots.AxesSubplot at 0x7f63fdae0b90>"
            ]
          },
          "metadata": {},
          "execution_count": 11
        },
        {
          "output_type": "display_data",
          "data": {
            "text/plain": [
              "<Figure size 432x288 with 1 Axes>"
            ],
            "image/png": "[encoded data removed]"
          },
          "metadata": {
            "needs_background": "light"
          }
        }
      ]
    },
    {
      "cell_type": "code",
      "source": [
        "from sklearn.model_selection import train_test_split\n",
        "(X_train, X_test, y_train, y_test) = train_test_split(x_var.reshape(-1,1), y_var, test_size = .2)"
      ],
      "metadata": {
        "id": "IDW54RFqwnxv"
      },
      "execution_count": 12,
      "outputs": []
    },
    {
      "cell_type": "code",
      "source": [
        "from sklearn.linear_model import LinearRegression\n",
        "linear_regressor = LinearRegression()"
      ],
      "metadata": {
        "id": "gk1u1WgCwuXJ"
      },
      "execution_count": 13,
      "outputs": []
    },
    {
      "cell_type": "code",
      "source": [
        "linear_regressor.fit(X_train, y_train)\n"
      ],
      "metadata": {
        "id": "oMSRQ_vPwwzO",
        "outputId": "77875d6d-44e0-4158-db29-f20d13517c4f",
        "colab": {
          "base_uri": "https://localhost:8080/"
        }
      },
      "execution_count": 14,
      "outputs": [
        {
          "output_type": "execute_result",
          "data": {
            "text/plain": [
              "LinearRegression()"
            ]
          },
          "metadata": {},
          "execution_count": 14
        }
      ]
    },
    {
      "cell_type": "code",
      "source": [
        "linear_regressor.predict(X_test)\n"
      ],
      "metadata": {
        "id": "5yFxm9jAwzOk",
        "outputId": "ad6f0b4a-dd11-4e9d-ee35-a340183a3431",
        "colab": {
          "base_uri": "https://localhost:8080/"
        }
      },
      "execution_count": 15,
      "outputs": [
        {
          "output_type": "execute_result",
          "data": {
            "text/plain": [
              "array([ 5.97127654,  7.67511022, 10.51483301, 10.32551816,  6.34990625,\n",
              "        7.48579537,  4.45675772,  4.26744287,  3.51018346,  8.24305478,\n",
              "        2.75292405])"
            ]
          },
          "metadata": {},
          "execution_count": 15
        }
      ]
    },
    {
      "cell_type": "markdown",
      "source": [
        "Linear Regression in Scikit-Learn (sklearn): An Introduction\n",
        "https://datagy.io/python-sklearn-linear-regression/\n"
      ],
      "metadata": {
        "id": "Rv3NILTjxZ1c"
      }
    },
    {
      "cell_type": "code",
      "source": [
        "import pandas as pd\n",
        "df = pd.read_csv('https://raw.githubusercontent.com/datagy/data/main/insurance.csv')\n",
        "print(df.head())\n",
        "\n",
        "# Returns:\n",
        "#    age     sex     bmi  children smoker     region      charges\n",
        "# 0   19  female  27.900         0    yes  southwest  16884.92400\n",
        "# 1   18    male  33.770         1     no  southeast   1725.55230\n",
        "# 2   28    male  33.000         3     no  southeast   4449.46200\n",
        "# 3   33    male  22.705         0     no  northwest  21984.47061\n",
        "# 4   32    male  28.880         0     no  northwest   3866.85520"
      ],
      "metadata": {
        "id": "KHNSwuPZxZRX",
        "outputId": "91ee1c7a-5316-457d-ab8b-a0b6919663b5",
        "colab": {
          "base_uri": "https://localhost:8080/"
        }
      },
      "execution_count": 16,
      "outputs": [
        {
          "output_type": "stream",
          "name": "stdout",
          "text": [
            "   age     sex     bmi  children smoker     region      charges\n",
            "0   19  female  27.900         0    yes  southwest  16884.92400\n",
            "1   18    male  33.770         1     no  southeast   1725.55230\n",
            "2   28    male  33.000         3     no  southeast   4449.46200\n",
            "3   33    male  22.705         0     no  northwest  21984.47061\n",
            "4   32    male  28.880         0     no  northwest   3866.85520\n"
          ]
        }
      ]
    }
  ]
}