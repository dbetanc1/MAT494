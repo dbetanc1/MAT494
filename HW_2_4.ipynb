{
  "nbformat": 4,
  "nbformat_minor": 0,
  "metadata": {
    "colab": {
      "provenance": [],
      "authorship_tag": "ABX9TyOriguiqnHED7CEz2UgO9TI",
      "include_colab_link": true
    },
    "kernelspec": {
      "name": "python3",
      "display_name": "Python 3"
    },
    "language_info": {
      "name": "python"
    }
  },
  "cells": [
    {
      "cell_type": "markdown",
      "metadata": {
        "id": "view-in-github",
        "colab_type": "text"
      },
      "source": [
        "<a href=\"https://colab.research.google.com/github/dbetanc1/MAT494/blob/main/HW_2_4.ipynb\" target=\"_parent\"><img src=\"https://colab.research.google.com/assets/colab-badge.svg\" alt=\"Open In Colab\"/></a>"
      ]
    },
    {
      "cell_type": "markdown",
      "source": [
        "Maximum Likelihood Estimation"
      ],
      "metadata": {
        "id": "qVY0d1qAARfm"
      }
    },
    {
      "cell_type": "code",
      "execution_count": 3,
      "metadata": {
        "id": "rjC-2IMBAPSF"
      },
      "outputs": [],
      "source": [
        "from __future__ import division\n",
        "\n",
        "from matplotlib import  pyplot as plt\n",
        "import numpy as np\n",
        "from scipy import stats\n",
        "import seaborn as sns\n",
        "from statsmodels.base.model import GenericLikelihoodModel\n",
        "\n",
        "np.random.seed(123456789)\n",
        "\n",
        "pi = 0.3\n",
        "lambda_ = 2.\n",
        "\n",
        "def zip_pmf(x, pi=pi, lambda_=lambda_):\n",
        "    if pi < 0 or pi > 1 or lambda_ <= 0:\n",
        "        return np.zeros_like(x)\n",
        "    else:\n",
        "        return (x == 0) * pi + (1 - pi) * stats.poisson.pmf(x, lambda_)\n"
      ]
    },
    {
      "cell_type": "code",
      "source": [
        "N = 1000\n",
        "\n",
        "inflated_zero = stats.bernoulli.rvs(pi, size=N)\n",
        "x = (1 - inflated_zero) * stats.poisson.rvs(lambda_, size=N)"
      ],
      "metadata": {
        "id": "GWW_9rL2B6hH"
      },
      "execution_count": 4,
      "outputs": []
    },
    {
      "cell_type": "code",
      "source": [
        "class ZeroInflatedPoisson(GenericLikelihoodModel):\n",
        "    def __init__(self, endog, exog=None, **kwds):\n",
        "        if exog is None:\n",
        "            exog = np.zeros_like(endog)\n",
        "            \n",
        "        super(ZeroInflatedPoisson, self).__init__(endog, exog, **kwds)\n",
        "    \n",
        "    def nloglikeobs(self, params):\n",
        "        pi = params[0]\n",
        "        lambda_ = params[1]\n",
        "\n",
        "        return -np.log(zip_pmf(self.endog, pi=pi, lambda_=lambda_))\n",
        "    \n",
        "    def fit(self, start_params=None, maxiter=10000, maxfun=5000, **kwds):\n",
        "        if start_params is None:\n",
        "            lambda_start = self.endog.mean()\n",
        "            excess_zeros = (self.endog == 0).mean() - stats.poisson.pmf(0, lambda_start)\n",
        "            \n",
        "            start_params = np.array([excess_zeros, lambda_start])\n",
        "            \n",
        "        return super(ZeroInflatedPoisson, self).fit(start_params=start_params,\n",
        "                                                    maxiter=maxiter, maxfun=maxfun, **kwds)"
      ],
      "metadata": {
        "id": "emZrQIzbB-z3"
      },
      "execution_count": 5,
      "outputs": []
    },
    {
      "cell_type": "code",
      "source": [
        "model = ZeroInflatedPoisson(x)\n",
        "results = model.fit()\n",
        "\n",
        "pi_mle, lambda_mle = results.params\n",
        "\n",
        "pi_mle, lambda_mle"
      ],
      "metadata": {
        "colab": {
          "base_uri": "https://localhost:8080/"
        },
        "id": "gBl9Sn9NCBUk",
        "outputId": "bf09ca86-69bb-4414-ce38-ebffaa7f57f9"
      },
      "execution_count": 7,
      "outputs": [
        {
          "output_type": "stream",
          "name": "stdout",
          "text": [
            "Optimization terminated successfully.\n",
            "         Current function value: 1.586641\n",
            "         Iterations: 37\n",
            "         Function evaluations: 70\n"
          ]
        },
        {
          "output_type": "execute_result",
          "data": {
            "text/plain": [
              "(0.31542487710071976, 2.0451304204850853)"
            ]
          },
          "metadata": {},
          "execution_count": 7
        }
      ]
    },
    {
      "cell_type": "code",
      "source": [
        "boot_mean, boot_std, boot_samples = results.bootstrap(nrep=500, store=True)\n",
        "boot_pis = boot_samples[:, 0]\n",
        "boot_lambdas = boot_samples[:, 1]"
      ],
      "metadata": {
        "id": "yJLunnXcCLV5"
      },
      "execution_count": 8,
      "outputs": []
    },
    {
      "cell_type": "markdown",
      "source": [
        " Linear Regression"
      ],
      "metadata": {
        "id": "sfpVVQGxAfEy"
      }
    },
    {
      "cell_type": "code",
      "source": [
        "import matplotlib.pyplot as plt\n",
        "\n",
        "x = [5,7,8,7,2,17,2,9,4,11,12,9,6]\n",
        "y = [99,86,87,88,111,86,103,87,94,78,77,85,86]\n",
        "\n",
        "plt.scatter(x, y)\n",
        "plt.show()"
      ],
      "metadata": {
        "colab": {
          "base_uri": "https://localhost:8080/",
          "height": 265
        },
        "id": "MDyn8bg3DDCi",
        "outputId": "211f98ef-0084-4997-b32a-4ccf03171f4b"
      },
      "execution_count": 12,
      "outputs": [
        {
          "output_type": "display_data",
          "data": {
            "text/plain": [
              "<Figure size 432x288 with 1 Axes>"
            ],
            "image/png": "[encoded data removed]"
          },
          "metadata": {
            "needs_background": "light"
          }
        }
      ]
    },
    {
      "cell_type": "code",
      "source": [
        "import matplotlib.pyplot as plt\n",
        "from scipy import stats\n",
        "\n",
        "x = [5,7,8,7,2,17,2,9,4,11,12,9,6]\n",
        "y = [99,86,87,88,111,86,103,87,94,78,77,85,86]\n",
        "\n",
        "slope, intercept, r, p, std_err = stats.linregress(x, y)\n",
        "\n",
        "def myfunc(x):\n",
        "  return slope * x + intercept\n",
        "\n",
        "mymodel = list(map(myfunc, x))\n",
        "\n",
        "plt.scatter(x, y)\n",
        "plt.plot(x, mymodel)\n",
        "plt.show()"
      ],
      "metadata": {
        "colab": {
          "base_uri": "https://localhost:8080/",
          "height": 265
        },
        "id": "3CiYhwFaDSBF",
        "outputId": "5e7a07ac-cd74-4c81-8ea4-bf549effed6a"
      },
      "execution_count": 13,
      "outputs": [
        {
          "output_type": "display_data",
          "data": {
            "text/plain": [
              "<Figure size 432x288 with 1 Axes>"
            ],
            "image/png": "[encoded data removed]"
          },
          "metadata": {
            "needs_background": "light"
          }
        }
      ]
    },
    {
      "cell_type": "code",
      "source": [
        "from scipy import stats\n",
        "\n",
        "x = [5,7,8,7,2,17,2,9,4,11,12,9,6]\n",
        "y = [99,86,87,88,111,86,103,87,94,78,77,85,86]\n",
        "\n",
        "slope, intercept, r, p, std_err = stats.linregress(x, y)\n",
        "\n",
        "def myfunc(x):\n",
        "  return slope * x + intercept\n",
        "\n",
        "speed = myfunc(10)\n",
        "\n",
        "print(speed)"
      ],
      "metadata": {
        "colab": {
          "base_uri": "https://localhost:8080/"
        },
        "id": "HItcGz3WDWvS",
        "outputId": "bac55a93-3b80-44fc-9a2f-db75ba7d780b"
      },
      "execution_count": 14,
      "outputs": [
        {
          "output_type": "stream",
          "name": "stdout",
          "text": [
            "85.59308314937454\n"
          ]
        }
      ]
    },
    {
      "cell_type": "code",
      "source": [
        "import numpy\n",
        "from scipy import stats\n",
        "\n",
        "x = [89,43,36,36,95,10,66,34,38,20,26,29,48,64,6,5,36,66,72,40]\n",
        "y = [21,46,3,35,67,95,53,72,58,10,26,34,90,33,38,20,56,2,47,15]\n",
        "\n",
        "slope, intercept, r, p, std_err = stats.linregress(x, y)\n",
        "\n",
        "print(r)"
      ],
      "metadata": {
        "colab": {
          "base_uri": "https://localhost:8080/"
        },
        "id": "De0Ar-NPDasA",
        "outputId": "03f6015c-d51e-42af-a23d-3e8bb5fca936"
      },
      "execution_count": 15,
      "outputs": [
        {
          "output_type": "stream",
          "name": "stdout",
          "text": [
            "0.01331814154297491\n"
          ]
        }
      ]
    },
    {
      "cell_type": "code",
      "source": [
        "import matplotlib.pyplot as plt\n",
        "from scipy import stats\n",
        "\n",
        "x = [89,43,36,36,95,10,66,34,38,20,26,29,48,64,6,5,36,66,72,40]\n",
        "y = [21,46,3,35,67,95,53,72,58,10,26,34,90,33,38,20,56,2,47,15]\n",
        "\n",
        "slope, intercept, r, p, std_err = stats.linregress(x, y)\n",
        "\n",
        "def myfunc(x):\n",
        "  return slope * x + intercept\n",
        "\n",
        "mymodel = list(map(myfunc, x))\n",
        "\n",
        "plt.scatter(x, y)\n",
        "plt.plot(x, mymodel)\n",
        "plt.show()"
      ],
      "metadata": {
        "colab": {
          "base_uri": "https://localhost:8080/",
          "height": 265
        },
        "id": "h2rQcprJDfcT",
        "outputId": "6d4d2f53-a80d-4c7c-b334-271087b3a88a"
      },
      "execution_count": 16,
      "outputs": [
        {
          "output_type": "display_data",
          "data": {
            "text/plain": [
              "<Figure size 432x288 with 1 Axes>"
            ],
            "image/png": "[encoded data removed]"
          },
          "metadata": {
            "needs_background": "light"
          }
        }
      ]
    },
    {
      "cell_type": "code",
      "source": [
        "from scipy import stats\n",
        "\n",
        "x = [5,7,8,7,2,17,2,9,4,11,12,9,6]\n",
        "y = [99,86,87,88,111,86,103,87,94,78,77,85,86]\n",
        "\n",
        "slope, intercept, r, p, std_err = stats.linregress(x, y)\n",
        "\n",
        "def myfunc(x):\n",
        "  return slope * x + intercept\n",
        "\n",
        "speed = myfunc(10)\n",
        "\n",
        "print(speed)"
      ],
      "metadata": {
        "colab": {
          "base_uri": "https://localhost:8080/"
        },
        "id": "qhV3HuzRDj1f",
        "outputId": "8e4153d2-5965-4118-b5f0-32e46805c9c9"
      },
      "execution_count": 17,
      "outputs": [
        {
          "output_type": "stream",
          "name": "stdout",
          "text": [
            "85.59308314937454\n"
          ]
        }
      ]
    }
  ]
}